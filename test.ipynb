{
 "cells": [
  {
   "cell_type": "code",
   "execution_count": null,
   "metadata": {},
   "outputs": [],
   "source": [
    "import pandas as pd\n",
    "\n",
    "# Read the CSV file into a DataFrame\n",
    "file_path = './archive/netflix-rotten-tomatoes-metacritic-imdb.csv'\n",
    "df = pd.read_csv(file_path)"
   ]
  },
  {
   "cell_type": "code",
   "execution_count": null,
   "metadata": {},
   "outputs": [],
   "source": [
    "import matplotlib.pyplot as plt\n",
    "import seaborn as sns\n",
    "\n",
    "# Create a figure with multiple subplots for distribution analysis\n",
    "plt.figure(figsize=(15, 10))\n",
    "\n",
    "# Plot 1: Distribution of IMDb Scores\n",
    "plt.subplot(2, 2, 1)\n",
    "sns.histplot(data=df, x='IMDb Score', kde=True)\n",
    "plt.title('Distribution of IMDb Scores')\n",
    "\n",
    "# Plot 2: Distribution of Rotten Tomatoes Scores\n",
    "plt.subplot(2, 2, 2)\n",
    "sns.histplot(data=df, x='Rotten Tomatoes Score', kde=True)\n",
    "plt.title('Distribution of Rotten Tomatoes Scores')\n",
    "\n",
    "# Plot 3: Distribution of Metacritic Score\n",
    "plt.subplot(2, 2, 3)\n",
    "sns.histplot(data=df, x='Metacritic Score', kde=True)\n",
    "plt.title('Distribution of Metacritic Score')\n",
    "\n",
    "# Plot 4: Box plot of all scores\n",
    "plt.subplot(2, 2, 4)\n",
    "scores_df = df[['IMDb Score', 'Rotten Tomatoes Score', 'Metacritic Score']]\n",
    "# Scale IMDb scores to 0-100 to match other scores\n",
    "scores_df['IMDb Score'] = scores_df['IMDb Score'] * 10\n",
    "sns.boxplot(data=scores_df)\n",
    "plt.title('Box Plot of All Scores (0-100)')\n",
    "\n",
    "plt.tight_layout()\n",
    "plt.show()"
   ]
  },
  {
   "cell_type": "code",
   "execution_count": null,
   "metadata": {},
   "outputs": [],
   "source": [
    "df['View Rating'] = df['View Rating'].fillna('Unrated')\n",
    "view_rating_to_age = {\n",
    "    'G': 0,\n",
    "    'E10+': 10,\n",
    "    'TV-Y7-FV': 7,\n",
    "    'PG': 10,\n",
    "    'PG-13': 13,\n",
    "    'R': 17,\n",
    "    'NC-17': 17,\n",
    "    'MA-17': 17,\n",
    "    'Approved': 0,\n",
    "    'Passed': 0,\n",
    "    'Unrated': 0,\n",
    "    'UNRATED': 0,\n",
    "    'E': 0,\n",
    "    'Not Rated': 0,\n",
    "    'NOTRATED': 0,\n",
    "    'NOT RATED': 0,\n",
    "    'TV-Y': 0,\n",
    "    'TV-Y7': 7,\n",
    "    'TV-G': 0,\n",
    "    'AL': 0,\n",
    "    'GP': 0,\n",
    "    'TV-PG': 10,\n",
    "    'TV-14': 14,\n",
    "    'M/PG': 15,\n",
    "    '15': 15,\n",
    "    'U': 0,\n",
    "    'M': 15,\n",
    "    'TV-MA': 17,\n",
    "    'X': 18,\n",
    "    'TV-13': 13,\n",
    "}\n",
    "\n",
    "df['Minimum Age'] = df['View Rating'].replace(view_rating_to_age)\n",
    "\n",
    "# Check how many titles have age rating 18 or 15\n",
    "age_18_count = (df['Minimum Age'] == 18).sum()\n",
    "age_15_count = (df['Minimum Age'] == 15).sum()\n",
    "\n",
    "print(f\"Number of titles with age rating 18: {age_18_count}\")\n",
    "print(f\"Number of titles with age rating 15: {age_15_count}\")\n",
    "\n",
    "# Convert 'View Rating' to minimum age\n",
    "df = df.drop('View Rating', axis=1)\n"
   ]
  },
  {
   "cell_type": "code",
   "execution_count": null,
   "metadata": {},
   "outputs": [],
   "source": [
    "plt.figure(figsize=(12, 6))\n",
    "age_counts = df['Minimum Age'].value_counts().sort_index()\n",
    "sns.barplot(x=age_counts.index, y=age_counts.values)\n",
    "plt.title('Distribution of Minimum Age Ratings')\n",
    "plt.xlabel('Minimum Age')\n",
    "plt.ylabel('Number of Titles')\n",
    "plt.xticks(rotation=0)\n",
    "plt.grid(axis='y', linestyle='--', alpha=0.7)\n",
    "plt.show()"
   ]
  },
  {
   "cell_type": "code",
   "execution_count": null,
   "metadata": {},
   "outputs": [],
   "source": [
    "# Print the first column of the DataFrame\n",
    "print(df.iloc[:, 0])"
   ]
  },
  {
   "cell_type": "code",
   "execution_count": null,
   "metadata": {},
   "outputs": [],
   "source": [
    "# Get a summary of statistics for numerical columns\n",
    "df.describe()\n"
   ]
  },
  {
   "cell_type": "code",
   "execution_count": null,
   "metadata": {},
   "outputs": [],
   "source": [
    "\n",
    "# Get a concise summary of the DataFrame\n",
    "df.info()"
   ]
  },
  {
   "cell_type": "code",
   "execution_count": null,
   "metadata": {},
   "outputs": [],
   "source": [
    "import matplotlib.pyplot as plt\n",
    "\n",
    "# Plot IMDb Score\n",
    "df['IMDb Score'].plot(kind='line', title='Distribution of IMDb Scores')\n",
    "plt.ylabel('IMDb Score')\n",
    "plt.xlabel('Movie Index')\n",
    "plt.show()"
   ]
  },
  {
   "cell_type": "code",
   "execution_count": null,
   "metadata": {},
   "outputs": [],
   "source": [
    "import matplotlib.pyplot as plt\n",
    "\n",
    "# Plot IMDb Votes of every movie\n",
    "plt.figure(figsize=(12, 6))\n",
    "df['IMDb Votes'].plot(kind='line', title='IMDb Votes of Every Movie')\n",
    "plt.xlabel('Movie Index')\n",
    "plt.ylabel('IMDb Votes')\n",
    "plt.show()"
   ]
  },
  {
   "cell_type": "code",
   "execution_count": null,
   "metadata": {},
   "outputs": [],
   "source": [
    "# Plot correlation between IMDb rating and votes\n",
    "plt.scatter(df['IMDb Score'], df['IMDb Votes'])\n",
    "plt.title('Correlation between IMDb Rating and Votes')\n",
    "plt.xlabel('IMDb Rating')\n",
    "plt.ylabel('Number of Votes')\n",
    "plt.show()"
   ]
  },
  {
   "cell_type": "code",
   "execution_count": null,
   "metadata": {},
   "outputs": [],
   "source": [
    "import seaborn as sns\n",
    "# Filter out non-numerical values\n",
    "df_numerical = df.select_dtypes(include=['float64', 'int64'])\n",
    "\n",
    "# Compute the correlation matrix\n",
    "corr = df_numerical.corr()\n",
    "\n",
    "# Generate a heatmap\n",
    "plt.figure(figsize=(10, 8))\n",
    "sns.heatmap(corr, annot=True, cmap='coolwarm', fmt='.2f')\n",
    "plt.title('Correlation Heatmap of Numerical Values')\n",
    "plt.show()"
   ]
  },
  {
   "cell_type": "code",
   "execution_count": null,
   "metadata": {},
   "outputs": [],
   "source": [
    "# Sort the DataFrame by IMDb Score in descending order and print the top 3 rows\n",
    "top_3_imdb = df.sort_values(by='IMDb Score', ascending=False).head(3)\n",
    "print(\"Top 3 movies by IMDb Score:\")\n",
    "print(top_3_imdb[['Title', 'IMDb Score']])\n",
    "\n",
    "# Sort the DataFrame by IMDb Score in ascending order and print the bottom 3 rows\n",
    "bottom_3_imdb = df.sort_values(by='IMDb Score', ascending=True).head(3)\n",
    "print(\"\\nBottom 3 movies by IMDb Score:\")\n",
    "print(bottom_3_imdb[['Title', 'IMDb Score']])"
   ]
  },
  {
   "cell_type": "code",
   "execution_count": null,
   "metadata": {},
   "outputs": [],
   "source": [
    "# Convert the DataFrame to a NumPy array\n",
    "numpy_array = df.to_numpy()\n",
    "numpy_array"
   ]
  },
  {
   "cell_type": "code",
   "execution_count": null,
   "metadata": {},
   "outputs": [],
   "source": [
    "import numpy as np\n",
    "\n",
    "nparr = np.genfromtxt(file_path, delimiter=',', dtype=str, skip_header=1)\n",
    "print(nparr)"
   ]
  },
  {
   "cell_type": "code",
   "execution_count": null,
   "metadata": {},
   "outputs": [],
   "source": [
    "import numpy as np\n",
    "\n",
    "nparr = np.genfromtxt(file_path, delimiter=',', dtype=str, skip_header=1, usecols=0)\n",
    "print(nparr)"
   ]
  }
 ],
 "metadata": {
  "kernelspec": {
   "display_name": "3.12.5",
   "language": "python",
   "name": "python3"
  },
  "language_info": {
   "codemirror_mode": {
    "name": "ipython",
    "version": 3
   },
   "file_extension": ".py",
   "mimetype": "text/x-python",
   "name": "python",
   "nbconvert_exporter": "python",
   "pygments_lexer": "ipython3",
   "version": "3.12.5"
  }
 },
 "nbformat": 4,
 "nbformat_minor": 2
}
