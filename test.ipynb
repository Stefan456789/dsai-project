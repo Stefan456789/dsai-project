{
 "cells": [
  {
   "cell_type": "code",
   "execution_count": 1,
   "metadata": {},
   "outputs": [],
   "source": [
    "import pandas as pd\n",
    "\n",
    "# Read the CSV file into a DataFrame\n",
    "file_path = './archive/netflix-rotten-tomatoes-metacritic-imdb.csv'\n",
    "df = pd.read_csv(file_path)"
   ]
  },
  {
   "cell_type": "code",
   "execution_count": null,
   "metadata": {},
   "outputs": [],
   "source": [
    "df.columns"
   ]
  },
  {
   "cell_type": "code",
   "execution_count": null,
   "metadata": {},
   "outputs": [],
   "source": [
    "# Print the first column of the DataFrame\n",
    "print(df.iloc[:, 0])"
   ]
  },
  {
   "cell_type": "code",
   "execution_count": null,
   "metadata": {},
   "outputs": [],
   "source": [
    "# Get a summary of statistics for numerical columns\n",
    "df.describe()\n"
   ]
  },
  {
   "cell_type": "code",
   "execution_count": null,
   "metadata": {},
   "outputs": [],
   "source": [
    "\n",
    "# Get a concise summary of the DataFrame\n",
    "df.info()"
   ]
  },
  {
   "cell_type": "code",
   "execution_count": null,
   "metadata": {},
   "outputs": [],
   "source": [
    "import matplotlib.pyplot as plt\n",
    "\n",
    "# Plot IMDb Score\n",
    "df['IMDb Score'].plot(kind='line', title='Distribution of IMDb Scores')\n",
    "plt.ylabel('IMDb Score')\n",
    "plt.xlabel('Movie Index')\n",
    "plt.show()"
   ]
  },
  {
   "cell_type": "code",
   "execution_count": null,
   "metadata": {},
   "outputs": [],
   "source": [
    "import matplotlib.pyplot as plt\n",
    "\n",
    "# Plot IMDb Votes of every movie\n",
    "plt.figure(figsize=(12, 6))\n",
    "df['IMDb Votes'].plot(kind='line', title='IMDb Votes of Every Movie')\n",
    "plt.xlabel('Movie Index')\n",
    "plt.ylabel('IMDb Votes')\n",
    "plt.show()"
   ]
  },
  {
   "cell_type": "code",
   "execution_count": null,
   "metadata": {},
   "outputs": [],
   "source": [
    "# Plot correlation between IMDb rating and votes\n",
    "plt.scatter(df['IMDb Score'], df['IMDb Votes'])\n",
    "plt.title('Correlation between IMDb Rating and Votes')\n",
    "plt.xlabel('IMDb Rating')\n",
    "plt.ylabel('Number of Votes')\n",
    "plt.show()"
   ]
  },
  {
   "cell_type": "code",
   "execution_count": null,
   "metadata": {},
   "outputs": [],
   "source": [
    "import seaborn as sns\n",
    "# Filter out non-numerical values\n",
    "df_numerical = df.select_dtypes(include=['float64', 'int64'])\n",
    "\n",
    "# Compute the correlation matrix\n",
    "corr = df_numerical.corr()\n",
    "\n",
    "# Generate a heatmap\n",
    "plt.figure(figsize=(10, 8))\n",
    "sns.heatmap(corr, annot=True, cmap='coolwarm', fmt='.2f')\n",
    "plt.title('Correlation Heatmap of Numerical Values')\n",
    "plt.show()"
   ]
  },
  {
   "cell_type": "code",
   "execution_count": null,
   "metadata": {},
   "outputs": [],
   "source": [
    "# Sort the DataFrame by IMDb Score in descending order and print the top 3 rows\n",
    "top_3_imdb = df.sort_values(by='IMDb Score', ascending=False).head(3)\n",
    "print(\"Top 3 movies by IMDb Score:\")\n",
    "print(top_3_imdb[['Title', 'IMDb Score']])\n",
    "\n",
    "# Sort the DataFrame by IMDb Score in ascending order and print the bottom 3 rows\n",
    "bottom_3_imdb = df.sort_values(by='IMDb Score', ascending=True).head(3)\n",
    "print(\"\\nBottom 3 movies by IMDb Score:\")\n",
    "print(bottom_3_imdb[['Title', 'IMDb Score']])"
   ]
  },
  {
   "cell_type": "code",
   "execution_count": null,
   "metadata": {},
   "outputs": [],
   "source": [
    "# Convert the DataFrame to a NumPy array\n",
    "numpy_array = df.to_numpy()\n",
    "numpy_array"
   ]
  },
  {
   "cell_type": "code",
   "execution_count": null,
   "metadata": {},
   "outputs": [],
   "source": [
    "import numpy as np\n",
    "\n",
    "nparr = np.genfromtxt(file_path, delimiter=',', dtype=str, skip_header=1)\n",
    "print(nparr)"
   ]
  },
  {
   "cell_type": "code",
   "execution_count": null,
   "metadata": {},
   "outputs": [],
   "source": [
    "import numpy as np\n",
    "\n",
    "nparr = np.genfromtxt(file_path, delimiter=',', dtype=str, skip_header=1, usecols=0)\n",
    "print(nparr)"
   ]
  }
 ],
 "metadata": {
  "kernelspec": {
   "display_name": "base",
   "language": "python",
   "name": "python3"
  },
  "language_info": {
   "codemirror_mode": {
    "name": "ipython",
    "version": 3
   },
   "file_extension": ".py",
   "mimetype": "text/x-python",
   "name": "python",
   "nbconvert_exporter": "python",
   "pygments_lexer": "ipython3",
   "version": "3.11.5"
  }
 },
 "nbformat": 4,
 "nbformat_minor": 2
}
