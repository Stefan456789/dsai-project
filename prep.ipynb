{
 "cells": [
  {
   "cell_type": "markdown",
   "metadata": {},
   "source": [
    "### Duplikate\n",
    "Es gibt keine Duplikate in Zeilen und keine in Reihen.\n",
    "\n",
    "### Nicht relevante Daten:\n",
    "- Languages\n",
    "- Netflix Link\t\n",
    "- IMDb Link\t\n",
    "- Summary\n",
    "- Image\n",
    "- Poster\n",
    "- TMDb Trailer\t\n",
    "- Trailer Site\n",
    "- Tags\n",
    "- Country Availability\n",
    "- Director\n",
    "- Writer\n",
    "- Actors\n",
    "\n",
    "Da diese String Werte sind und schwer bzw. gar nicht encoded werden können\n",
    "\n",
    "### Ausreißer\n",
    "Bei Rotten Tomatoes score gibt es 0 Werte.\n",
    "Sonst gibt keine Ausreißer, aber manche Filme wurden im Vergleich zu anderen sehr oft bewertet.\n",
    "\n",
    "### Vorverarbeitungsschritte\n",
    "- Series or Movie kann Ordinal Encoded werden\n",
    "- View Rating kann Ordinal Encoded werden\n",
    "- Genre kann One-Hot Encoded werden\n",
    "- Runtime kann zu <30 min -> 1, 1-2h -> 3 encoded werden\n",
    "- Release Date kann zu Unix Date umgewandelt werden\n",
    "- Boxoffice kann von String zu Number convertiert werden\n",
    "- NaN Werte in Awards Nominated For kann auf 0 gesetzt werden.\n",
    "\n",
    "\n"
   ]
  },
  {
   "cell_type": "code",
   "execution_count": null,
   "metadata": {},
   "outputs": [],
   "source": [
    "import pandas as pd\n",
    "\n",
    "# Read the CSV file into a DataFrame\n",
    "file_path = './archive/netflix-rotten-tomatoes-metacritic-imdb.csv'\n",
    "df = pd.read_csv(file_path)\n",
    "\n",
    "pd.set_option('display.max_columns', None)"
   ]
  },
  {
   "cell_type": "code",
   "execution_count": null,
   "metadata": {},
   "outputs": [],
   "source": [
    "df['Awards Nominated For'] = df['Awards Nominated For'].fillna(0)"
   ]
  },
  {
   "cell_type": "code",
   "execution_count": null,
   "metadata": {},
   "outputs": [],
   "source": [
    "# Select only string columns\n",
    "string_columns = df.select_dtypes(include=[object])\n",
    "\n",
    "# Print the string columns\n",
    "string_columns"
   ]
  },
  {
   "cell_type": "code",
   "execution_count": null,
   "metadata": {},
   "outputs": [],
   "source": [
    "columns_to_drop = ['Languages', 'Netflix Link', 'IMDb Link', 'Summary', 'Image', 'Poster', 'TMDb Trailer', 'Trailer Site', 'Tags', 'Country Availability', 'Production House','Director','Writer','Actors']\n",
    "df = df.drop(columns=columns_to_drop)\n",
    "df"
   ]
  },
  {
   "cell_type": "code",
   "execution_count": null,
   "metadata": {},
   "outputs": [],
   "source": [
    "# Encode 'Runtime' column\n",
    "df['Runtime'] = df['Runtime'].replace({'< 30 minutes': 1, '30-60 mins': 2, '1-2 hour': 3, '> 2 hours': 5, '> 2 hrs': 5})\n",
    "\n",
    "df['Runtime']"
   ]
  },
  {
   "cell_type": "code",
   "execution_count": null,
   "metadata": {
    "vscode": {
     "languageId": "ruby"
    }
   },
   "outputs": [],
   "source": [
    "# Define the mapping dictionary for view ratings to minimum age\n",
    "df['View Rating'] = df['View Rating'].fillna('Unrated')\n",
    "view_rating_to_age = {\n",
    "    'G': 0,\n",
    "    'E10+': 10,\n",
    "    'TV-Y7-FV': 7,\n",
    "    'PG': 10,\n",
    "    'PG-13': 13,\n",
    "    'R': 17,\n",
    "    'NC-17': 17,\n",
    "    'MA-17': 17,\n",
    "    'Approved': 0,\n",
    "    'Passed': 0,\n",
    "    'Unrated': 0,\n",
    "    'UNRATED': 0,\n",
    "    'E': 0,\n",
    "    'Not Rated': 0,\n",
    "    'NOTRATED': 0,\n",
    "    'NOT RATED': 0,\n",
    "    'TV-Y': 0,\n",
    "    'TV-Y7': 7,\n",
    "    'TV-G': 0,\n",
    "    'AL': 0,\n",
    "    'GP': 0,\n",
    "    'TV-PG': 10,\n",
    "    'TV-14': 14,\n",
    "    'M/PG': 15,\n",
    "    '15': 15,\n",
    "    'U': 0,\n",
    "    'M': 15,\n",
    "    'TV-MA': 17,\n",
    "    'X': 18,\n",
    "    'TV-13': 13,\n",
    "}\n",
    "\n",
    "# Convert 'View Rating' to minimum age\n",
    "df['Minimum Age'] = df['View Rating'].replace(view_rating_to_age)\n",
    "df = df.drop('View Rating', axis=1)\n",
    "\n",
    "# Display the count of each rating\n",
    "df['Minimum Age'].value_counts()"
   ]
  },
  {
   "cell_type": "code",
   "execution_count": null,
   "metadata": {},
   "outputs": [],
   "source": [
    "# Remove non-numeric characters and convert to float\n",
    "df['Boxoffice'] = df['Boxoffice'].replace('[\\$,]', '', regex=True).astype(float)\n",
    "\n",
    "# Display the 'Boxoffice' column to verify the changes\n",
    "df['Boxoffice']"
   ]
  },
  {
   "cell_type": "code",
   "execution_count": null,
   "metadata": {},
   "outputs": [],
   "source": [
    "# Convert 'Series or Movie' to 0 for movies and 1 for series\n",
    "df['Series or Movie'] = df['Series or Movie'].replace({'Movie': 0, 'Series': 1})\n",
    "# Rename the column to 'Is Series'\n",
    "df.rename(columns={'Series or Movie': 'Is Series'}, inplace=True)\n",
    "# Display the updated column to verify the changes\n",
    "\n",
    "df['Is Series']"
   ]
  },
  {
   "cell_type": "code",
   "execution_count": null,
   "metadata": {},
   "outputs": [],
   "source": [
    "x = df[df['Release Date'].isna() & df['Netflix Release Date'].isna()]\n",
    "nan_counts = df['Release Date'].isna().sum()\n",
    "print(x)\n",
    "print(nan_counts)"
   ]
  },
  {
   "cell_type": "code",
   "execution_count": null,
   "metadata": {},
   "outputs": [],
   "source": [
    "\n",
    "df['Release Date'] = pd.to_datetime(df['Release Date'], errors='coerce')\n",
    "df['Release Date'] = pd.to_datetime(df['Netflix Release Date'], errors='coerce', dayfirst=False)\n",
    "\n",
    "df['Release Date'] = df['Release Date'].fillna(df['Netflix Release Date'])\n",
    "df['Release Date']"
   ]
  },
  {
   "cell_type": "code",
   "execution_count": null,
   "metadata": {},
   "outputs": [],
   "source": [
    "import numpy as np\n",
    "\n",
    "# Print all rows where 'Release Date' is NaN and 'Netflix Release Date' is not\n",
    "\n",
    "\n",
    "\n",
    "# Convert 'Release Date' to Unix timestamp (int) in seconds, only for non-NaT values\n",
    "df['Release Date'] = df['Release Date'].where(df['Release Date'].isna(), df['Release Date'].view('int64') // 10**9)\n",
    "\n",
    "# Replace NaT with np.nan (for consistency)\n",
    "df['Release Date'] = df['Release Date'].where(df['Release Date'].notna(), np.nan)\n",
    "\n",
    "# Print the count of NaN values in each column\n",
    "df = df.drop('Netflix Release Date', axis=1)"
   ]
  },
  {
   "cell_type": "code",
   "execution_count": null,
   "metadata": {
    "vscode": {
     "languageId": "ruby"
    }
   },
   "outputs": [],
   "source": []
  },
  {
   "cell_type": "code",
   "execution_count": null,
   "metadata": {},
   "outputs": [],
   "source": [
    "# Print all columns of all rows with NaN values\n",
    "# Print percentage of NaN values in each column\n",
    "nan_percentage = df.isna().mean() * 100\n",
    "nan_percentage = nan_percentage.to_frame(name='Percentage of NaN Values')\n",
    "pd.set_option('display.max_rows', None)\n",
    "\n",
    "nan_percentage\n"
   ]
  },
  {
   "cell_type": "code",
   "execution_count": null,
   "metadata": {},
   "outputs": [],
   "source": [
    "pd.set_option('display.max_rows', 10)\n"
   ]
  },
  {
   "cell_type": "code",
   "execution_count": null,
   "metadata": {},
   "outputs": [],
   "source": [
    "# Remove rows with any NaN values\n",
    "df = df.dropna()\n",
    "\n",
    "df"
   ]
  },
  {
   "cell_type": "code",
   "execution_count": null,
   "metadata": {},
   "outputs": [],
   "source": []
  },
  {
   "cell_type": "code",
   "execution_count": null,
   "metadata": {},
   "outputs": [],
   "source": [
    "import seaborn as sns\n",
    "import matplotlib.pyplot as plt\n",
    "\n",
    "# Select only numeric columns\n",
    "numeric_data = df.select_dtypes(include=[float, int])\n",
    "\n",
    "# Create a correlation matrix\n",
    "corr_matrix = numeric_data.corr()\n",
    "\n",
    "# Plot the heatmap\n",
    "plt.figure(figsize=(10, 8))\n",
    "sns.heatmap(corr_matrix, annot=True, cmap='coolwarm', linewidths=0.5)\n",
    "plt.title('Correlation Heatmap')\n",
    "plt.show()\n"
   ]
  },
  {
   "cell_type": "code",
   "execution_count": null,
   "metadata": {},
   "outputs": [],
   "source": [
    "\n",
    "\n",
    "genre_one_hot = df['Genre'].str.split(',').apply(lambda x: [item.strip() for item in x])\n",
    "onehot_encoded = genre_one_hot.explode().str.get_dummies().groupby(level=0).sum()\n",
    "df = pd.concat([df, onehot_encoded], axis=1)\n",
    "\n",
    "df = df.drop('Genre', axis=1)\n",
    "\n",
    "onehot_encoded"
   ]
  },
  {
   "cell_type": "code",
   "execution_count": null,
   "metadata": {},
   "outputs": [],
   "source": []
  },
  {
   "cell_type": "code",
   "execution_count": null,
   "metadata": {},
   "outputs": [],
   "source": [
    "from sklearn.preprocessing import MinMaxScaler\n",
    "\n",
    "# Initialize the MinMaxScaler\n",
    "scaler = MinMaxScaler()\n",
    "\n",
    "# Fit and transform the numeric data\n",
    "scaled_numeric_data = scaler.fit_transform(numeric_data)\n",
    "\n",
    "# Convert the scaled data back to a DataFrame\n",
    "scaled_numeric_data = pd.DataFrame(scaled_numeric_data, columns=numeric_data.columns)\n",
    "\n",
    "scaled_numeric_data"
   ]
  },
  {
   "cell_type": "code",
   "execution_count": null,
   "metadata": {},
   "outputs": [],
   "source": [
    "\n",
    "# Create a horizontal boxplot for the numeric data\n",
    "sns.boxplot(data=scaled_numeric_data, orient='h')\n",
    "plt.title('Horizontal Boxplot of Numeric Data')\n",
    "plt.show()"
   ]
  },
  {
   "cell_type": "code",
   "execution_count": null,
   "metadata": {},
   "outputs": [],
   "source": [
    "\n",
    "\n",
    "# Create a horizontal boxplot for the numeric data\n",
    "sns.boxplot(data=numeric_data, orient='h')\n",
    "plt.title('Horizontal Boxplot of Numeric Data')\n",
    "plt.show()\n"
   ]
  },
  {
   "cell_type": "code",
   "execution_count": null,
   "metadata": {},
   "outputs": [],
   "source": [
    "votes = np.log1p(numeric_data)\n",
    "sns.boxplot(data=votes, orient='h')\n",
    "plt.title('Horizontal Boxplot of Numeric Data')\n",
    "plt.show()"
   ]
  },
  {
   "cell_type": "code",
   "execution_count": null,
   "metadata": {},
   "outputs": [],
   "source": [
    "# Select only string columns\n",
    "string_columns = df.select_dtypes(include=[object])\n",
    "\n",
    "# Print the string columns\n",
    "string_columns"
   ]
  },
  {
   "cell_type": "code",
   "execution_count": null,
   "metadata": {},
   "outputs": [],
   "source": [
    "df.to_csv('preped.csv', index=False)"
   ]
  }
 ],
 "metadata": {
  "kernelspec": {
   "display_name": "3.12.5",
   "language": "python",
   "name": "python3"
  },
  "language_info": {
   "codemirror_mode": {
    "name": "ipython",
    "version": 3
   },
   "file_extension": ".py",
   "mimetype": "text/x-python",
   "name": "python",
   "nbconvert_exporter": "python",
   "pygments_lexer": "ipython3",
   "version": "3.12.5"
  }
 },
 "nbformat": 4,
 "nbformat_minor": 2
}
