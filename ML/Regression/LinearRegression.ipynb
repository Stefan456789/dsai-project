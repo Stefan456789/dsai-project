{
 "cells": [
  {
   "cell_type": "markdown",
   "metadata": {},
   "source": [
    "# Prep"
   ]
  },
  {
   "cell_type": "code",
   "execution_count": null,
   "metadata": {},
   "outputs": [],
   "source": [
    "import pandas as pd\n",
    "from sklearn.preprocessing import StandardScaler\n",
    "from sklearn.model_selection import train_test_split\n",
    "\n",
    "# Read the CSV file\n",
    "file_path = '../../preped.csv'\n",
    "df = pd.read_csv(file_path)\n",
    "\n",
    "# Select the features and target variable\n",
    "features = df[['Is Series', 'Hidden Gem Score', 'Runtime', 'Minimum Age', 'Awards Received', 'Awards Nominated For', 'Boxoffice', 'Release Date', 'IMDb Votes', 'Action', 'Adventure', 'Animation', 'Biography', 'Comedy', 'Crime', 'Documentary', 'Drama', 'Family', 'Fantasy', 'History', 'Horror', 'Music', 'Musical', 'Mystery', 'News', 'Romance', 'Sci-Fi', 'Sport', 'Thriller', 'War', 'Western']]\n",
    "target = df['IMDb Score']\n",
    "\n",
    "# Drop rows with missing values in features or target\n",
    "features = features.dropna()\n",
    "target = target[features.index]\n",
    "\n",
    "# Split the data into training and testing sets\n",
    "X_train, X_test, y_train, y_test = train_test_split(features, target, test_size=0.2, random_state=42)\n",
    "\n",
    "# Scale the features\n",
    "scaler = StandardScaler()\n",
    "X_train_scaled = scaler.fit_transform(X_train)\n",
    "X_test_scaled = scaler.transform(X_test)"
   ]
  },
  {
   "cell_type": "markdown",
   "metadata": {},
   "source": [
    "# Train Models"
   ]
  },
  {
   "cell_type": "code",
   "execution_count": null,
   "metadata": {},
   "outputs": [],
   "source": [
    "from sklearn.linear_model import LinearRegression\n",
    "from sklearn.metrics import mean_squared_error, r2_score\n",
    "\n",
    "\n",
    "# Create and train the regression model\n",
    "model = LinearRegression()\n",
    "model.fit(X_train_scaled, y_train)\n",
    "\n",
    "# Make predictions on the test set\n",
    "y_pred = model.predict(X_test_scaled)\n",
    "\n",
    "# Evaluate the model\n",
    "mse = mean_squared_error(y_test, y_pred)\n",
    "r2 = r2_score(y_test, y_pred)\n",
    "\n",
    "print(f'Mean Squared Error: {mse:.3f}')\n",
    "print(f'R-squared: {r2:.3f}')"
   ]
  },
  {
   "cell_type": "code",
   "execution_count": null,
   "metadata": {},
   "outputs": [],
   "source": [
    "# Define the target columns for Metacritic Score and Rotten Tomatoes Score\n",
    "target_column_mc = 'Metacritic Score'\n",
    "target_column_rt = 'Rotten Tomatoes Score'\n",
    "\n",
    "# Separate the features and target variables for Metacritic Score\n",
    "X_mc = features\n",
    "y_mc = df[target_column_mc]\n",
    "\n",
    "# Separate the features and target variables for Rotten Tomatoes Score\n",
    "X_rt = features\n",
    "y_rt = df[target_column_rt]\n",
    "\n",
    "# Split the data into training and testing sets for Metacritic Score\n",
    "X_train_mc, X_test_mc, y_train_mc, y_test_mc = train_test_split(X_mc, y_mc, test_size=0.2, random_state=42)\n",
    "\n",
    "# Split the data into training and testing sets for Rotten Tomatoes Score\n",
    "X_train_rt, X_test_rt, y_train_rt, y_test_rt = train_test_split(X_rt, y_rt, test_size=0.2, random_state=42)\n",
    "\n",
    "# Create and train the regression model for Metacritic Score\n",
    "model_mc = LinearRegression()\n",
    "model_mc.fit(X_train_mc, y_train_mc)\n",
    "\n",
    "# Create and train the regression model for Rotten Tomatoes Score\n",
    "model_rt = LinearRegression()\n",
    "model_rt.fit(X_train_rt, y_train_rt)\n",
    "\n",
    "# Make predictions on the test set for Metacritic Score\n",
    "y_pred_mc = model_mc.predict(X_test_mc)\n",
    "\n",
    "# Make predictions on the test set for Rotten Tomatoes Score\n",
    "y_pred_rt = model_rt.predict(X_test_rt)\n",
    "\n",
    "# Evaluate the model for Metacritic Score\n",
    "mse_mc = mean_squared_error(y_test_mc, y_pred_mc)\n",
    "r2_mc = r2_score(y_test_mc, y_pred_mc)\n",
    "\n",
    "# Evaluate the model for Rotten Tomatoes Score\n",
    "mse_rt = mean_squared_error(y_test_rt, y_pred_rt)\n",
    "r2_rt = r2_score(y_test_rt, y_pred_rt)\n",
    "\n",
    "print(f'Mean Squared Error for Rotten Tomatoes Score: {mse_rt:.3f}')\n",
    "print(f'R-squared for Rotten Tomatoes Score: {r2_rt:.3f}')\n",
    "print(\"\\n\")\n",
    "print(f'Mean Squared Error for Metacritic Score: {mse_mc:.3f}')\n",
    "print(f'R-squared for Metacritic Score: {r2_mc:.3f}')"
   ]
  },
  {
   "cell_type": "markdown",
   "metadata": {},
   "source": [
    "# Visualize Default Models"
   ]
  },
  {
   "cell_type": "code",
   "execution_count": null,
   "metadata": {},
   "outputs": [],
   "source": [
    "import matplotlib.pyplot as plt\n",
    "\n",
    "# Create a figure with subplots\n",
    "plt.figure(figsize=(15, 5))\n",
    "\n",
    "# Plot IMDb scores\n",
    "plt.subplot(131)\n",
    "plt.scatter(y_test, y_pred, alpha=0.6)\n",
    "plt.plot([y_test.min(), y_test.max()], [y_test.min(), y_test.max()], 'r--', lw=2)\n",
    "plt.xlabel('Actual IMDb Score')\n",
    "plt.ylabel('Predicted IMDb Score')\n",
    "plt.title('IMDb Scores')\n",
    "\n",
    "# Plot Metacritic scores \n",
    "plt.subplot(132)\n",
    "plt.scatter(y_test_mc, y_pred_mc, alpha=0.6)\n",
    "plt.plot([y_test_mc.min(), y_test_mc.max()], [y_test_mc.min(), y_test_mc.max()], 'r--', lw=2)\n",
    "plt.xlabel('Actual Metacritic Score')\n",
    "plt.ylabel('Predicted Metacritic Score')\n",
    "plt.title('Metacritic Scores')\n",
    "\n",
    "# Plot Rotten Tomatoes scores\n",
    "plt.subplot(133)\n",
    "plt.scatter(y_test_rt, y_pred_rt, alpha=0.6)\n",
    "plt.plot([y_test_rt.min(), y_test_rt.max()], [y_test_rt.min(), y_test_rt.max()], 'r--', lw=2)\n",
    "plt.xlabel('Actual Rotten Tomatoes Score') \n",
    "plt.ylabel('Predicted Rotten Tomatoes Score')\n",
    "plt.title('Rotten Tomatoes Scores')\n",
    "\n",
    "plt.tight_layout()\n",
    "plt.show()"
   ]
  }
 ],
 "metadata": {
  "kernelspec": {
   "display_name": "3.12.5",
   "language": "python",
   "name": "python3"
  },
  "language_info": {
   "codemirror_mode": {
    "name": "ipython",
    "version": 3
   },
   "file_extension": ".py",
   "mimetype": "text/x-python",
   "name": "python",
   "nbconvert_exporter": "python",
   "pygments_lexer": "ipython3",
   "version": "3.12.5"
  }
 },
 "nbformat": 4,
 "nbformat_minor": 2
}
