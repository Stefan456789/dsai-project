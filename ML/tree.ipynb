{
 "cells": [
  {
   "cell_type": "code",
   "execution_count": 46,
   "metadata": {},
   "outputs": [],
   "source": [
    "import pandas as pd\n",
    "import matplotlib.pyplot as plt\n",
    "\n",
    "# Read the CSV file\n",
    "file_path = '../preped.csv'\n",
    "df = pd.read_csv(file_path)"
   ]
  },
  {
   "cell_type": "code",
   "execution_count": null,
   "metadata": {},
   "outputs": [],
   "source": [
    "df.columns"
   ]
  },
  {
   "cell_type": "code",
   "execution_count": null,
   "metadata": {},
   "outputs": [],
   "source": [
    "df['Release Year'] = pd.to_datetime(df['Release Date'],unit='s').dt.year\n",
    "df['Release Month'] = pd.to_datetime(df['Release Date'],unit='s').dt.month\n",
    "df['Release Month']"
   ]
  },
  {
   "cell_type": "code",
   "execution_count": null,
   "metadata": {},
   "outputs": [],
   "source": [
    "from sklearn.tree import DecisionTreeClassifier\n",
    "from sklearn.model_selection import train_test_split\n",
    "from sklearn.metrics import accuracy_score\n",
    "\n",
    "# Define the features and target variable\n",
    "features = df.select_dtypes(include=[int, float]).drop(columns=['Minimum Age'])\n",
    "target = df['Minimum Age']\n",
    "\n",
    "# Split the data into training and testing sets\n",
    "X_train, X_test, y_train, y_test = train_test_split(features, target, test_size=0.2, random_state=42)\n",
    "\n",
    "# Create the decision tree classifier\n",
    "clf = DecisionTreeClassifier(random_state=42)\n",
    "\n",
    "# Train the classifier\n",
    "clf.fit(X_train, y_train)\n",
    "\n",
    "# Make predictions\n",
    "y_pred = clf.predict(X_test)\n",
    "\n",
    "\n",
    "# Calculate the accuracy\n",
    "accuracy = accuracy_score(y_test, y_pred)\n",
    "print(f'Accuracy: {accuracy:.2f}')"
   ]
  },
  {
   "cell_type": "code",
   "execution_count": null,
   "metadata": {},
   "outputs": [],
   "source": [
    "import numpy as np\n",
    "import matplotlib.pyplot as plt\n",
    "\n",
    "importances = clf.feature_importances_\n",
    "indices = np.argsort(importances)[::-1]\n",
    "\n",
    "# Plot the feature importances\n",
    "plt.figure(figsize=(12, 8))\n",
    "plt.title(\"Feature Importances\")\n",
    "plt.bar(range(features.shape[1]), importances[indices], align=\"center\")\n",
    "plt.xticks(range(features.shape[1]), [features.columns[i] for i in indices], rotation=90)\n",
    "plt.xlim([-1, features.shape[1]])\n",
    "plt.show()"
   ]
  },
  {
   "cell_type": "code",
   "execution_count": null,
   "metadata": {},
   "outputs": [],
   "source": [
    "# Define the threshold for low importance\n",
    "threshold = 0.01\n",
    "\n",
    "# Filter out features with importance below the threshold\n",
    "important_features = features.columns[importances > threshold]\n",
    "\n",
    "# Update the features dataframe to include only important features\n",
    "features_important = features[important_features]\n",
    "\n",
    "# Split the data into training and testing sets with important features\n",
    "X_train_important, X_test_important, y_train, y_test = train_test_split(features_important, target, test_size=0.2, random_state=42)\n",
    "\n",
    "# Create the decision tree classifier\n",
    "clf_important = DecisionTreeClassifier(random_state=42)\n",
    "\n",
    "# Train the classifier\n",
    "clf_important.fit(X_train_important, y_train)\n",
    "\n",
    "# Make predictions\n",
    "y_pred_important = clf_important.predict(X_test_important)\n",
    "\n",
    "# Calculate the accuracy\n",
    "accuracy_important = accuracy_score(y_test, y_pred_important)\n",
    "print(f'Accuracy with important features: {accuracy_important:.2f}')"
   ]
  },
  {
   "cell_type": "code",
   "execution_count": null,
   "metadata": {},
   "outputs": [],
   "source": [
    "import matplotlib.pyplot as plt\n",
    "\n",
    "importances = clf_important.feature_importances_\n",
    "indices = np.argsort(importances)[::-1]\n",
    "\n",
    "# Plot the feature importances\n",
    "plt.figure(figsize=(12, 8))\n",
    "plt.title(\"Feature Importances for 'Is Series'\")\n",
    "plt.bar(range(features_important.shape[1]), importances[indices], align=\"center\")\n",
    "plt.xticks(range(features_important.shape[1]), [features_important.columns[i] for i in indices], rotation=90)\n",
    "plt.xlim([-1, features_important.shape[1]])\n",
    "plt.show()\n"
   ]
  },
  {
   "cell_type": "code",
   "execution_count": null,
   "metadata": {},
   "outputs": [],
   "source": [
    "from sklearn.tree import DecisionTreeClassifier, plot_tree\n",
    "\n",
    "# Define the features and target variable for 'Is Series'\n",
    "features_is_series = df.select_dtypes(include=[int, float]).drop(columns=['Is Series'])\n",
    "target_is_series = df['Is Series']\n",
    "\n",
    "# Split the data into training and testing sets\n",
    "X_train_is_series, X_test_is_series, y_train_is_series, y_test_is_series = train_test_split(features_is_series, target_is_series, test_size=0.2, random_state=42)\n",
    "\n",
    "# Create the decision tree classifier\n",
    "clf_is_series = DecisionTreeClassifier(random_state=42)\n",
    "\n",
    "# Train the classifier\n",
    "clf_is_series.fit(X_train_is_series, y_train_is_series)\n",
    "\n",
    "# Visualize the decision tree\n",
    "plt.figure(figsize=(20,10))\n",
    "plot_tree(clf_is_series, feature_names=features_is_series.columns, class_names=['Not Series', 'Series'], filled=True)\n",
    "plt.show()"
   ]
  },
  {
   "cell_type": "code",
   "execution_count": null,
   "metadata": {},
   "outputs": [],
   "source": [
    "import matplotlib.pyplot as plt\n",
    "\n",
    "importances = clf_is_series.feature_importances_\n",
    "indices = np.argsort(importances)[::-1]\n",
    "\n",
    "# Plot the feature importances\n",
    "plt.figure(figsize=(12, 8))\n",
    "plt.title(\"Feature Importances for 'Is Series'\")\n",
    "plt.bar(range(features_is_series.shape[1]), importances[indices], align=\"center\")\n",
    "plt.xticks(range(features_is_series.shape[1]), [features_is_series.columns[i] for i in indices], rotation=90)\n",
    "plt.xlim([-1, features_is_series.shape[1]])\n",
    "plt.show()\n"
   ]
  },
  {
   "cell_type": "code",
   "execution_count": null,
   "metadata": {},
   "outputs": [],
   "source": [
    "# Make predictions\n",
    "y_pred_is_series = clf_is_series.predict(X_test_is_series)\n",
    "\n",
    "# Calculate the accuracy\n",
    "accuracy_is_series = accuracy_score(y_test_is_series, y_pred_is_series)\n",
    "print(f'Accuracy: {accuracy_is_series:.2f}')"
   ]
  }
 ],
 "metadata": {
  "kernelspec": {
   "display_name": "Python 3",
   "language": "python",
   "name": "python3"
  },
  "language_info": {
   "codemirror_mode": {
    "name": "ipython",
    "version": 3
   },
   "file_extension": ".py",
   "mimetype": "text/x-python",
   "name": "python",
   "nbconvert_exporter": "python",
   "pygments_lexer": "ipython3",
   "version": "3.12.5"
  }
 },
 "nbformat": 4,
 "nbformat_minor": 2
}
