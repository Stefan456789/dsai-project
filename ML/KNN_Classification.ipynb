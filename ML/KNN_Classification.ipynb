{
 "cells": [
  {
   "cell_type": "code",
   "execution_count": 33,
   "metadata": {},
   "outputs": [],
   "source": [
    "import pandas as pd\n",
    "\n",
    "# Read the CSV file\n",
    "file_path = '../preped.csv'\n",
    "df = pd.read_csv(file_path)"
   ]
  },
  {
   "cell_type": "code",
   "execution_count": null,
   "metadata": {},
   "outputs": [],
   "source": [
    "print(df.columns)\n"
   ]
  },
  {
   "cell_type": "code",
   "execution_count": null,
   "metadata": {},
   "outputs": [],
   "source": [
    "# Define age groups\n",
    "def age_group(age):\n",
    "    if age == 0:\n",
    "        return 'All'\n",
    "    elif 1 <= age <= 16:\n",
    "        return 'Teen'\n",
    "    else:\n",
    "        return 'Adult'\n",
    "df['Age Group'] = df['Minimum Age'].apply(age_group)\n",
    "\n",
    "df['Age Group']"
   ]
  },
  {
   "cell_type": "code",
   "execution_count": null,
   "metadata": {},
   "outputs": [],
   "source": [
    "import pandas as pd\n",
    "from sklearn.model_selection import train_test_split\n",
    "from sklearn.neighbors import KNeighborsClassifier\n",
    "from sklearn.preprocessing import StandardScaler\n",
    "from sklearn.metrics import classification_report, accuracy_score\n",
    "\n",
    "\n",
    "features = df.drop(columns=['Minimum Age', 'Age Group']).select_dtypes(include=[int, float])\n",
    "\n",
    "X = features\n",
    "y = df['Age Group']\n",
    "\n",
    "# 3. Feature Scaling (Essential for KNN):\n",
    "scaler = StandardScaler()\n",
    "X_scaled = scaler.fit_transform(X)\n",
    "\n",
    "\n",
    "# Split data into training and testing sets:\n",
    "X_train, X_test, y_train, y_test = train_test_split(X_scaled, y, test_size=0.2, random_state=42) # Adjust test size as needed\n",
    "\n",
    "# Train the KNN model:\n",
    "knn = KNeighborsClassifier(n_neighbors=5) # Choose an appropriate value for k (n_neighbors)\n",
    "knn.fit(X_train, y_train)\n",
    "\n",
    "# Make predictions on the test set:\n",
    "y_pred = knn.predict(X_test)\n",
    "\n",
    "# Evaluate the model:\n",
    "print(classification_report(y_test, y_pred))\n",
    "print(\"Accuracy:\", accuracy_score(y_test, y_pred))\n"
   ]
  },
  {
   "cell_type": "code",
   "execution_count": null,
   "metadata": {},
   "outputs": [],
   "source": [
    "import pandas as pd\n",
    "from sklearn.experimental import enable_halving_search_cv\n",
    "from sklearn.model_selection import train_test_split, HalvingGridSearchCV\n",
    "from sklearn.neighbors import KNeighborsClassifier\n",
    "from sklearn.preprocessing import StandardScaler\n",
    "from sklearn.metrics import classification_report, accuracy_score\n",
    "\n",
    "# Assuming 'df' is your DataFrame\n",
    "features = df.drop(columns=['Minimum Age', 'Age Group']).select_dtypes(include=[int, float])\n",
    "\n",
    "X = features\n",
    "y = df['Age Group']\n",
    "\n",
    "# 3. Feature Scaling (Essential for KNN):\n",
    "scaler = StandardScaler()\n",
    "X_scaled = scaler.fit_transform(X)\n",
    "\n",
    "# Split data into training and testing sets:\n",
    "X_train, X_test, y_train, y_test = train_test_split(X_scaled, y, test_size=0.2, random_state=42) # Adjust test size as needed\n",
    "\n",
    "# Define the parameter grid for HalvingGridSearchCV\n",
    "param_grid = {\n",
    "    'n_neighbors': range(1, 30),  # Explore a range of n_neighbors values\n",
    "    'weights': ['uniform', 'distance'], # Explore different weighting strategies\n",
    "    'metric': ['euclidean', 'manhattan', 'minkowski'] # Explore different distance metrics\n",
    "}\n",
    "\n",
    "# Initialize HalvingGridSearchCV\n",
    "halving_cv = HalvingGridSearchCV(\n",
    "    KNeighborsClassifier(), \n",
    "    param_grid, \n",
    "    cv=5,  # Number of cross-validation folds\n",
    "    scoring='accuracy',  # Scoring metric\n",
    "    n_jobs=-1, # Use all available cores for parallel processing\n",
    "    verbose=1, #  Increase verbosity for more detailed output\n",
    "    factor=2, # Reduction factor for resources (e.g., half the candidates in each iteration)\n",
    "    min_resources=10 # Minimum resources to start with\n",
    ")\n",
    "\n",
    "# Train the model using HalvingGridSearchCV\n",
    "halving_cv.fit(X_train, y_train)\n",
    "\n",
    "# Get the best estimator from HalvingGridSearchCV\n",
    "best_knn = halving_cv.best_estimator_\n",
    "\n",
    "# Make predictions on the test set using the best model\n",
    "y_pred = best_knn.predict(X_test)\n"
   ]
  },
  {
   "cell_type": "code",
   "execution_count": null,
   "metadata": {},
   "outputs": [],
   "source": [
    "\n",
    "# Evaluate the model:\n",
    "print(\"Best Hyperparameters:\", halving_cv.best_params_)\n",
    "print(classification_report(y_test, y_pred))\n",
    "print(\"Accuracy:\", accuracy_score(y_test, y_pred))"
   ]
  },
  {
   "cell_type": "code",
   "execution_count": null,
   "metadata": {},
   "outputs": [],
   "source": []
  }
 ],
 "metadata": {
  "kernelspec": {
   "display_name": "sklearn-env",
   "language": "python",
   "name": "python3"
  },
  "language_info": {
   "codemirror_mode": {
    "name": "ipython",
    "version": 3
   },
   "file_extension": ".py",
   "mimetype": "text/x-python",
   "name": "python",
   "nbconvert_exporter": "python",
   "pygments_lexer": "ipython3",
   "version": "3.13.1"
  }
 },
 "nbformat": 4,
 "nbformat_minor": 2
}
