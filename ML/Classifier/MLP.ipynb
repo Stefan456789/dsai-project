{
 "cells": [
  {
   "cell_type": "markdown",
   "metadata": {},
   "source": [
    "# Prep"
   ]
  },
  {
   "cell_type": "code",
   "execution_count": 1,
   "metadata": {},
   "outputs": [],
   "source": [
    "import pandas as pd\n",
    "from sklearn.neural_network import MLPClassifier\n",
    "from sklearn.model_selection import train_test_split\n",
    "from sklearn.preprocessing import StandardScaler\n",
    "from sklearn.metrics import accuracy_score, confusion_matrix\n",
    "import seaborn as sns\n",
    "import matplotlib.pyplot as plt\n",
    "from sklearn.experimental import enable_halving_search_cv\n",
    "from sklearn.model_selection import HalvingGridSearchCV\n",
    "\n",
    "# Load dataset\n",
    "file_path = '../../preped.csv'\n",
    "df = pd.read_csv(file_path)\n",
    "\n",
    "# Define age groups\n",
    "def age_group(age):\n",
    "    if age == 0:\n",
    "        return 'All'\n",
    "    elif 1 <= age <= 16:\n",
    "        return 'Teen'\n",
    "    else:\n",
    "        return 'Adult'\n",
    "df['Age Group'] = df['Minimum Age'].apply(age_group)\n",
    "\n",
    "features = df.drop(columns=['Minimum Age', 'Age Group']).select_dtypes(include=[int, float]).columns\n",
    "target = 'Age Group'\n",
    "\n",
    "X = df[features]\n",
    "y = df[target]\n",
    "\n",
    "X_train, X_test, y_train, y_test = train_test_split(X, y, test_size=0.2, random_state=42)"
   ]
  },
  {
   "cell_type": "markdown",
   "metadata": {},
   "source": [
    "# Default"
   ]
  },
  {
   "cell_type": "code",
   "execution_count": null,
   "metadata": {},
   "outputs": [],
   "source": [
    "mlp_default = MLPClassifier(max_iter=1000, random_state=42)\n",
    "mlp_default.fit(X_train, y_train)\n",
    "y_pred_default = mlp_default.predict(X_test)\n",
    "print(f'Default Accuracy: {accuracy_score(y_test, y_pred_default):.3f}')"
   ]
  },
  {
   "cell_type": "markdown",
   "metadata": {},
   "source": [
    "# Scaled"
   ]
  },
  {
   "cell_type": "code",
   "execution_count": null,
   "metadata": {},
   "outputs": [],
   "source": [
    "scaler = StandardScaler()\n",
    "X_train_scaled = scaler.fit_transform(X_train)\n",
    "X_test_scaled = scaler.transform(X_test)\n",
    "mlp_scaled = MLPClassifier(max_iter=1000, random_state=42)\n",
    "mlp_scaled.fit(X_train_scaled, y_train)\n",
    "y_pred_scaled = mlp_scaled.predict(X_test_scaled)\n",
    "print(f'With Standard Scaler Accuracy: {accuracy_score(y_test, y_pred_scaled):.3f}')"
   ]
  },
  {
   "cell_type": "markdown",
   "metadata": {},
   "source": [
    "# Visualize Scaled"
   ]
  },
  {
   "cell_type": "code",
   "execution_count": null,
   "metadata": {},
   "outputs": [],
   "source": [
    "from sklearn.metrics import confusion_matrix\n",
    "import seaborn as sns\n",
    "\n",
    "import matplotlib.pyplot as plt\n",
    "\n",
    "# Create confusion matrix\n",
    "cm = confusion_matrix(y_test, y_pred_scaled)\n",
    "\n",
    "# Create heatmap of confusion matrix\n",
    "plt.figure(figsize=(10,8))\n",
    "sns.heatmap(cm, annot=True, fmt='d', cmap='Blues',\n",
    "            xticklabels=['Adult', 'All', 'Teen'],\n",
    "            yticklabels=['Adult', 'All', 'Teen'])\n",
    "plt.title('Confusion Matrix')\n",
    "plt.xlabel('Predicted')\n",
    "plt.ylabel('Actual')\n",
    "plt.show()"
   ]
  },
  {
   "cell_type": "markdown",
   "metadata": {},
   "source": [
    "# Opitimize using HalvingGridSearchCV"
   ]
  },
  {
   "cell_type": "code",
   "execution_count": null,
   "metadata": {},
   "outputs": [],
   "source": [
    "from sklearn.experimental import enable_halving_search_cv\n",
    "from sklearn.model_selection import HalvingGridSearchCV\n",
    "\n",
    "# Define the parameter grid for HalvingGridSearchCV\n",
    "param_grid_age = {\n",
    "    'hidden_layer_sizes': [(20), (50,), (100, 50), (200, 100)],\n",
    "    'activation': ['relu', 'tanh', 'logistic'],\n",
    "    'solver': ['adam', 'sgd'],\n",
    "    'alpha': [0.0001, 0.001, 0.01],\n",
    "    'learning_rate': ['constant', 'adaptive']\n",
    "}\n",
    "\n",
    "# Define the target column\n",
    "target = 'Age Group'\n",
    "\n",
    "y_age_grid = df[target]\n",
    "\n",
    "X_train_age_grid, X_test_age_grid, y_train_age_grid, y_test_age_grid = train_test_split(X, y_age_grid, test_size=0.2, random_state=42)\n",
    "\n",
    "# Scale features\n",
    "scaler_age_grid = StandardScaler()\n",
    "X_train_age_scaled_grid = scaler_age_grid.fit_transform(X_train_age_grid)\n",
    "X_test_age_scaled_grid = scaler_age_grid.transform(X_test_age_grid)\n",
    "\n",
    "# Perform HalvingGridSearchCV\n",
    "model_age_grid = MLPClassifier(max_iter=1000, random_state=42)\n",
    "halving_search_age = HalvingGridSearchCV(model_age_grid, param_grid_age, cv=5, scoring='accuracy', verbose=0, n_jobs=-1, factor=2, min_resources=50)\n",
    "halving_search_age.fit(X_train_age_scaled_grid, y_train_age_grid)\n",
    "best_model_age = halving_search_age.best_estimator_\n",
    "\n",
    "# Make predictions using the best model\n",
    "y_pred_age_grid = best_model_age.predict(X_test_age_scaled_grid)\n",
    "\n",
    "# Print results\n",
    "print(f'Best Parameters for Age Classification: {halving_search_age.best_params_}')\n",
    "print(f'Accuracy Score for Age Classification: {accuracy_score(y_test_age_grid, y_pred_age_grid):.3f}')"
   ]
  },
  {
   "cell_type": "markdown",
   "metadata": {},
   "source": [
    "Best Parameters for Age Classification: {'activation': 'relu', 'alpha': 0.0001, 'hidden_layer_sizes': (50,), 'learning_rate': 'adaptive', 'solver': 'sgd'}\\\n",
    "Accuracy Score for Age Classification: 0.701"
   ]
  },
  {
   "cell_type": "code",
   "execution_count": null,
   "metadata": {},
   "outputs": [],
   "source": [
    "mlp_best = MLPClassifier(activation='relu', alpha=0.0001, hidden_layer_sizes=(50,), learning_rate='adaptive', solver='sgd', max_iter=1000, random_state=42)\n",
    "mlp_best.fit(X_train_scaled, y_train)\n",
    "y_pred_best = mlp_best.predict(X_test_scaled)\n",
    "print(f'Best Accuracy: {accuracy_score(y_test, y_pred_best):.3f}')"
   ]
  },
  {
   "cell_type": "markdown",
   "metadata": {},
   "source": [
    "# Visualize Best"
   ]
  },
  {
   "cell_type": "code",
   "execution_count": null,
   "metadata": {},
   "outputs": [],
   "source": [
    "from sklearn.metrics import confusion_matrix\n",
    "import seaborn as sns\n",
    "\n",
    "import matplotlib.pyplot as plt\n",
    "\n",
    "# Create confusion matrix\n",
    "cm = confusion_matrix(y_test, y_pred_best)\n",
    "\n",
    "# Create heatmap of confusion matrix\n",
    "plt.figure(figsize=(10,8))\n",
    "sns.heatmap(cm, annot=True, fmt='d', cmap='Blues',\n",
    "            xticklabels=['Adult', 'All', 'Teen'],\n",
    "            yticklabels=['Adult', 'All', 'Teen'])\n",
    "plt.title('Confusion Matrix')\n",
    "plt.xlabel('Predicted')\n",
    "plt.ylabel('Actual')\n",
    "plt.show()"
   ]
  },
  {
   "cell_type": "markdown",
   "metadata": {},
   "source": [
    "# Visualize All"
   ]
  },
  {
   "cell_type": "code",
   "execution_count": null,
   "metadata": {},
   "outputs": [],
   "source": [
    "from sklearn.metrics import confusion_matrix\n",
    "import seaborn as sns\n",
    "import matplotlib.pyplot as plt\n",
    "\n",
    "# Create confusion matrices\n",
    "cm_scaled = confusion_matrix(y_test, y_pred_scaled)\n",
    "cm_best = confusion_matrix(y_test, y_pred_best)\n",
    "\n",
    "# Create subplots\n",
    "fig, axes = plt.subplots(1, 2, figsize=(20, 8))\n",
    "\n",
    "# Heatmap for scaled model\n",
    "sns.heatmap(cm_scaled, annot=True, fmt='d', cmap='Blues', ax=axes[0],\n",
    "            xticklabels=['Adult', 'All', 'Teen'],\n",
    "            yticklabels=['Adult', 'All', 'Teen'])\n",
    "axes[0].set_title('Confusion Matrix - Scaled Model')\n",
    "axes[0].set_xlabel('Predicted')\n",
    "axes[0].set_ylabel('Actual')\n",
    "\n",
    "# Heatmap for best model\n",
    "sns.heatmap(cm_best, annot=True, fmt='d', cmap='Blues', ax=axes[1],\n",
    "            xticklabels=['Adult', 'All', 'Teen'],\n",
    "            yticklabels=['Adult', 'All', 'Teen'])\n",
    "axes[1].set_title('Confusion Matrix - Best Model')\n",
    "axes[1].set_xlabel('Predicted')\n",
    "axes[1].set_ylabel('Actual')\n",
    "\n",
    "plt.show()\n"
   ]
  }
 ],
 "metadata": {
  "kernelspec": {
   "display_name": "3.12.5",
   "language": "python",
   "name": "python3"
  },
  "language_info": {
   "codemirror_mode": {
    "name": "ipython",
    "version": 3
   },
   "file_extension": ".py",
   "mimetype": "text/x-python",
   "name": "python",
   "nbconvert_exporter": "python",
   "pygments_lexer": "ipython3",
   "version": "3.12.5"
  }
 },
 "nbformat": 4,
 "nbformat_minor": 2
}
