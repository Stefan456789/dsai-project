{
 "cells": [
  {
   "cell_type": "markdown",
   "metadata": {},
   "source": [
    "# Prep"
   ]
  },
  {
   "cell_type": "code",
   "execution_count": null,
   "metadata": {},
   "outputs": [],
   "source": [
    "import pandas as pd\n",
    "import matplotlib.pyplot as plt\n",
    "\n",
    "# Read the CSV file\n",
    "file_path = '../../preped.csv'\n",
    "df = pd.read_csv(file_path)"
   ]
  },
  {
   "cell_type": "code",
   "execution_count": null,
   "metadata": {},
   "outputs": [],
   "source": [
    "df['Release Year'] = pd.to_datetime(df['Release Date'],unit='s').dt.year\n",
    "df['Release Month'] = pd.to_datetime(df['Release Date'],unit='s').dt.month\n",
    "df['Release Month']"
   ]
  },
  {
   "cell_type": "code",
   "execution_count": null,
   "metadata": {},
   "outputs": [],
   "source": [
    "# Define age groups\n",
    "def age_group(age):\n",
    "    if age == 0:\n",
    "        return 'All'\n",
    "    elif 1 <= age <= 16:\n",
    "        return 'Teen'\n",
    "    else:\n",
    "        return 'Adult'\n",
    "df['Age Group'] = df['Minimum Age'].apply(age_group)\n",
    "\n",
    "df['Age Group']"
   ]
  },
  {
   "cell_type": "markdown",
   "metadata": {},
   "source": [
    "# Default"
   ]
  },
  {
   "cell_type": "code",
   "execution_count": null,
   "metadata": {},
   "outputs": [],
   "source": [
    "from sklearn.tree import DecisionTreeClassifier\n",
    "from sklearn.model_selection import train_test_split\n",
    "from sklearn.metrics import accuracy_score\n",
    "\n",
    "\n",
    "target = df['Age Group']\n",
    "features = df.drop(columns=['Minimum Age', 'Age Group']).select_dtypes(include=[int, float])\n",
    "\n",
    "X_train, X_test, y_train, y_test = train_test_split(features, target, test_size=0.2, random_state=42)\n",
    "\n",
    "clf = DecisionTreeClassifier(random_state=42)\n",
    "clf.fit(X_train, y_train)\n",
    "\n",
    "y_pred = clf.predict(X_test)\n",
    "\n",
    "accuracy = accuracy_score(y_test, y_pred)\n",
    "print(f'Accuracy: {accuracy:.3f}')"
   ]
  },
  {
   "cell_type": "markdown",
   "metadata": {},
   "source": [
    "# Scaled"
   ]
  },
  {
   "cell_type": "code",
   "execution_count": null,
   "metadata": {},
   "outputs": [],
   "source": [
    "from sklearn.preprocessing import StandardScaler\n",
    "\n",
    "scaler = StandardScaler()\n",
    "X_train_scaled = scaler.fit_transform(X_train)\n",
    "X_test_scaled = scaler.transform(X_test)\n",
    "\n",
    "clf = DecisionTreeClassifier(random_state=42)\n",
    "clf.fit(X_train_scaled, y_train)\n",
    "\n",
    "y_pred = clf.predict(X_test_scaled)\n",
    "\n",
    "accuracy = accuracy_score(y_test, y_pred)\n",
    "print(f'Accuracy: {accuracy:.3f}')"
   ]
  },
  {
   "cell_type": "markdown",
   "metadata": {},
   "source": [
    "# Visualize"
   ]
  },
  {
   "cell_type": "code",
   "execution_count": null,
   "metadata": {},
   "outputs": [],
   "source": [
    "from sklearn.metrics import confusion_matrix\n",
    "import seaborn as sns\n",
    "\n",
    "# Create confusion matrix\n",
    "cm = confusion_matrix(y_test, y_pred)\n",
    "\n",
    "# Create heatmap of confusion matrix\n",
    "plt.figure(figsize=(10,8))\n",
    "sns.heatmap(cm, annot=True, fmt='d', cmap='Blues',\n",
    "            xticklabels=['Adult', 'All', 'Teen'],\n",
    "            yticklabels=['Adult', 'All', 'Teen'])\n",
    "plt.title('Confusion Matrix')\n",
    "plt.xlabel('Predicted')\n",
    "plt.ylabel('Actual')\n",
    "plt.show()"
   ]
  },
  {
   "cell_type": "markdown",
   "metadata": {},
   "source": [
    "# Feature Importances"
   ]
  },
  {
   "cell_type": "code",
   "execution_count": null,
   "metadata": {},
   "outputs": [],
   "source": [
    "import numpy as np\n",
    "import matplotlib.pyplot as plt\n",
    "\n",
    "importances = clf.feature_importances_\n",
    "indices = np.argsort(importances)[::-1]\n",
    "\n",
    "# Plot the feature importances\n",
    "plt.figure(figsize=(12, 8))\n",
    "plt.title(\"Feature Importances\")\n",
    "plt.bar(range(features.shape[1]), importances[indices], align=\"center\")\n",
    "plt.xticks(range(features.shape[1]), [features.columns[i] for i in indices], rotation=90)\n",
    "plt.xlim([-1, features.shape[1]])\n",
    "plt.show()"
   ]
  },
  {
   "cell_type": "markdown",
   "metadata": {},
   "source": [
    "# Without unimportant Features"
   ]
  },
  {
   "cell_type": "code",
   "execution_count": null,
   "metadata": {},
   "outputs": [],
   "source": [
    "# Define the threshold for low importance\n",
    "threshold = 0.01\n",
    "\n",
    "# Filter out features with importance below the threshold\n",
    "important_features = features.columns[importances > threshold]\n",
    "\n",
    "# Update the features dataframe to include only important features\n",
    "features_important = features[important_features]\n",
    "\n",
    "# Split the data into training and testing sets with important features\n",
    "X_train_important, X_test_important, y_train, y_test = train_test_split(features_important, target, test_size=0.2, random_state=42)\n",
    "\n",
    "# Create the decision tree classifier\n",
    "clf_important = DecisionTreeClassifier(random_state=42)\n",
    "\n",
    "# Train the classifier\n",
    "clf_important.fit(X_train_important, y_train)\n",
    "\n",
    "# Make predictions\n",
    "y_pred_important = clf_important.predict(X_test_important)\n",
    "\n",
    "# Calculate the accuracy\n",
    "accuracy_important = accuracy_score(y_test, y_pred_important)\n",
    "print(f'Accuracy with important features: {accuracy_important:.3f}')"
   ]
  },
  {
   "cell_type": "markdown",
   "metadata": {},
   "source": [
    "# Imoprtant Features"
   ]
  },
  {
   "cell_type": "code",
   "execution_count": null,
   "metadata": {},
   "outputs": [],
   "source": [
    "import matplotlib.pyplot as plt\n",
    "\n",
    "importances = clf_important.feature_importances_\n",
    "indices = np.argsort(importances)[::-1]\n",
    "\n",
    "# Plot the feature importances\n",
    "plt.figure(figsize=(12, 8))\n",
    "plt.title(\"Feature Importances\")\n",
    "plt.bar(range(features_important.shape[1]), importances[indices], align=\"center\")\n",
    "plt.xticks(range(features_important.shape[1]), [features_important.columns[i] for i in indices], rotation=90)\n",
    "plt.xlim([-1, features_important.shape[1]])\n",
    "plt.show()"
   ]
  },
  {
   "cell_type": "markdown",
   "metadata": {},
   "source": [
    "# Optimize using HalvingGridSearchCV"
   ]
  },
  {
   "cell_type": "code",
   "execution_count": null,
   "metadata": {},
   "outputs": [],
   "source": [
    "from sklearn.experimental import enable_halving_search_cv\n",
    "from sklearn.model_selection import HalvingGridSearchCV\n",
    "from sklearn.ensemble import RandomForestClassifier\n",
    "\n",
    "param_grid = {\n",
    "    'n_estimators': [50, 100, 200],  # Explore different numbers of trees\n",
    "    'max_depth': [None, 10, 20],      # Explore different tree depths\n",
    "    'min_samples_split': [2, 5, 10],   # Explore different minimum samples to split\n",
    "    'min_samples_leaf': [1, 2, 4],     # Explore different minimum samples per leaf\n",
    "    'criterion': ['gini', 'entropy']  # Explore different splitting criteria\n",
    "}\n",
    "\n",
    "# Initialize HalvingGridSearchCV\n",
    "halving_cv = HalvingGridSearchCV(\n",
    "    RandomForestClassifier(random_state=42),\n",
    "    param_grid,\n",
    "    cv=5,                # 5-fold cross-validation\n",
    "    scoring='accuracy',  # Optimize for accuracy\n",
    "    n_jobs=-1,           # Use all available cores\n",
    "    verbose=0,           # Don't print progress updates\n",
    "    factor=2,            # Reduce the number of candidates by half in each iteration\n",
    "    resource='n_samples' # Using n_samples as the resource parameter\n",
    ")\n",
    "\n",
    "\n",
    "# Fit the model using HalvingGridSearchCV\n",
    "halving_cv.fit(X_train, y_train)\n",
    "\n",
    "# Get the best model from HalvingGridSearchCV\n",
    "best_rf_model = halving_cv.best_estimator_\n",
    "\n",
    "# Make predictions on the test set\n",
    "y_pred = best_rf_model.predict(X_test)\n",
    "\n",
    "# Evaluate the model\n",
    "print(\"Best Hyperparameters:\", halving_cv.best_params_)\n",
    "print(\"Classification Report:\\n\", classification_report(y_test, y_pred))\n",
    "print(\"Accuracy:\", accuracy_score(y_test, y_pred))\n",
    "\n",
    "\n",
    "# Feature Importance Analysis and Removal (Optional)\n",
    "feature_importances = best_rf_model.feature_importances_\n",
    "feature_importance_df = pd.DataFrame({'Feature': X.columns, 'Importance': feature_importances})\n",
    "feature_importance_df = feature_importance_df.sort_values(by='Importance', ascending=False)"
   ]
  },
  {
   "cell_type": "code",
   "execution_count": null,
   "metadata": {},
   "outputs": [],
   "source": [
    "plt.figure(figsize=(10, 6))\n",
    "plt.bar(feature_importance_df['Feature'], feature_importance_df['Importance'])\n",
    "plt.xticks(rotation=90)\n",
    "plt.xlabel(\"Features\")\n",
    "plt.ylabel(\"Importance\")\n",
    "plt.title(\"Feature Importances\")\n",
    "plt.tight_layout()\n",
    "plt.show()"
   ]
  },
  {
   "cell_type": "markdown",
   "metadata": {},
   "source": [
    "# Optimize without unimportant Features"
   ]
  },
  {
   "cell_type": "code",
   "execution_count": null,
   "metadata": {},
   "outputs": [],
   "source": [
    "low_importance_threshold = 0.01  # Adjust the threshold as needed\n",
    "features_to_remove = feature_importance_df[feature_importance_df['Importance'] < low_importance_threshold]['Feature'].tolist()\n",
    "\n",
    "print(f\"Features to remove: {features_to_remove}\")\n",
    "\n",
    "# Remove low-importance features and retrain (optional)\n",
    "if features_to_remove:\n",
    "    X_train_reduced = X_train.drop(features_to_remove, axis=1)\n",
    "    X_test_reduced = X_test.drop(features_to_remove, axis=1)\n",
    "\n",
    "\n",
    "    halving_cv_reduced = HalvingGridSearchCV(\n",
    "        RandomForestClassifier(random_state=42),\n",
    "        param_grid,\n",
    "        cv=5,                # 5-fold cross-validation\n",
    "        scoring='accuracy',  # Optimize for accuracy\n",
    "        n_jobs=-1,           # Use all available cores\n",
    "        verbose=0,           # Don't print progress updates\n",
    "        factor=2,            # Reduce the number of candidates by half in each iteration\n",
    "        resource='n_samples' # Using n_samples as the resource parameter\n",
    "    )\n",
    "\n",
    "    halving_cv_reduced.fit(X_train_reduced, y_train)\n",
    "    best_rf_model_reduced = halving_cv_reduced.best_estimator_\n",
    "    y_pred_reduced = best_rf_model_reduced.predict(X_test_reduced)\n",
    "\n",
    "    print(\"Reduced Model Best Hyperparameters:\", halving_cv_reduced.best_params_)\n",
    "    print(\"Reduced Model Classification Report:\\n\", classification_report(y_test, y_pred_reduced))\n",
    "    print(\"Reduced Model Accuracy:\", accuracy_score(y_test, y_pred_reduced))\n"
   ]
  },
  {
   "cell_type": "markdown",
   "metadata": {},
   "source": [
    "# Visualize Best Model"
   ]
  },
  {
   "cell_type": "code",
   "execution_count": null,
   "metadata": {},
   "outputs": [],
   "source": [
    "from sklearn.metrics import confusion_matrix\n",
    "import seaborn as sns\n",
    "\n",
    "import matplotlib.pyplot as plt\n",
    "\n",
    "cm = confusion_matrix(y_test, y_pred)\n",
    "\n",
    "plt.figure(figsize=(10,8))\n",
    "sns.heatmap(cm, annot=True, fmt='d', cmap='Blues',\n",
    "            xticklabels=['Adult', 'All', 'Teen'],\n",
    "            yticklabels=['Adult', 'All', 'Teen'])\n",
    "plt.title('Confusion Matrix')\n",
    "plt.xlabel('Predicted')\n",
    "plt.ylabel('Actual')\n",
    "plt.show()"
   ]
  },
  {
   "cell_type": "markdown",
   "metadata": {},
   "source": [
    "# Visualize Best Model Without Unimportant Features"
   ]
  },
  {
   "cell_type": "code",
   "execution_count": null,
   "metadata": {},
   "outputs": [],
   "source": [
    "from sklearn.metrics import confusion_matrix\n",
    "import seaborn as sns\n",
    "\n",
    "import matplotlib.pyplot as plt\n",
    "\n",
    "\n",
    "# Create confusion matrix\n",
    "cm = confusion_matrix(y_test, y_pred_reduced)\n",
    "\n",
    "# Create heatmap of confusion matrix\n",
    "plt.figure(figsize=(10,8))\n",
    "sns.heatmap(cm, annot=True, fmt='d', cmap='Blues',\n",
    "            xticklabels=['Adult', 'All', 'Teen'],\n",
    "            yticklabels=['Adult', 'All', 'Teen'])\n",
    "plt.title('Confusion Matrix')\n",
    "plt.xlabel('Predicted')\n",
    "plt.ylabel('Actual')\n",
    "plt.show()"
   ]
  },
  {
   "cell_type": "markdown",
   "metadata": {},
   "source": [
    "Best Hyperparameters: {'criterion': 'gini', 'max_depth': 10, 'min_samples_leaf': 2, 'min_samples_split': 5, 'n_estimators': 100}\n",
    "Classification Report:\n",
    "               precision    recall  f1-score   support\n",
    "\n",
    "       Adult       0.67      0.72      0.69       216\n",
    "         All       0.67      0.48      0.56        58\n",
    "        Teen       0.72      0.72      0.72       228\n",
    "\n",
    "    accuracy                           0.69       502\n",
    "   macro avg       0.68      0.64      0.66       502\n",
    "weighted avg       0.69      0.69      0.69       502\n",
    "\n",
    "Accuracy: 0.6912350597609562\n",
    "\n",
    "Features to remove: ['Sci-Fi', 'Runtime', 'Sport', 'Biography', 'Mystery', 'Documentary', 'Musical', 'Music', 'History', 'War', 'Western', 'Is Series', 'News']\n",
    "\n",
    "Reduced Model Best Hyperparameters: {'criterion': 'gini', 'max_depth': 10, 'min_samples_leaf': 1, 'min_samples_split': 5, 'n_estimators': 200}\n",
    "Reduced Model Classification Report:\n",
    "               precision    recall  f1-score   support\n",
    "\n",
    "       Adult       0.66      0.70      0.68       216\n",
    "         All       0.67      0.45      0.54        58\n",
    "        Teen       0.71      0.73      0.72       228\n",
    "\n",
    "    accuracy                           0.68       502\n",
    "   macro avg       0.68      0.63      0.64       502\n",
    "weighted avg       0.68      0.68      0.68       502\n",
    "\n",
    "Reduced Model Accuracy: 0.6832669322709163"
   ]
  }
 ],
 "metadata": {
  "kernelspec": {
   "display_name": "3.12.5",
   "language": "python",
   "name": "python3"
  },
  "language_info": {
   "codemirror_mode": {
    "name": "ipython",
    "version": 3
   },
   "file_extension": ".py",
   "mimetype": "text/x-python",
   "name": "python",
   "nbconvert_exporter": "python",
   "pygments_lexer": "ipython3",
   "version": "3.12.5"
  }
 },
 "nbformat": 4,
 "nbformat_minor": 2
}
