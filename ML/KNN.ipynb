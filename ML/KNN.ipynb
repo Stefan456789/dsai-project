{
 "cells": [
  {
   "cell_type": "code",
   "execution_count": 1,
   "metadata": {},
   "outputs": [],
   "source": [
    "import pandas as pd\n",
    "\n",
    "# Read the CSV file\n",
    "file_path = '../preped.csv'\n",
    "df = pd.read_csv(file_path)"
   ]
  },
  {
   "cell_type": "code",
   "execution_count": null,
   "metadata": {},
   "outputs": [],
   "source": [
    "print(df.columns)"
   ]
  },
  {
   "cell_type": "code",
   "execution_count": null,
   "metadata": {},
   "outputs": [],
   "source": [
    "from sklearn.model_selection import train_test_split\n",
    "from sklearn.neighbors import KNeighborsRegressor\n",
    "from sklearn.metrics import mean_absolute_error, mean_squared_error, r2_score\n",
    "from sklearn.preprocessing import StandardScaler\n",
    "\n",
    "feature_columns = ['Is Series', 'Hidden Gem Score', 'Runtime', 'Minimum Age', 'Awards Received', 'Awards Nominated For', 'Boxoffice', 'Release Date', 'IMDb Votes', 'Action', 'Adventure', 'Animation', 'Biography', 'Comedy', 'Crime', 'Documentary', 'Drama', 'Family', 'Fantasy', 'History', 'Horror', 'Music', 'Musical', 'Mystery', 'News', 'Romance', 'Sci-Fi', 'Sport', 'Thriller', 'War', 'Western']\n",
    "target_column = 'IMDb Score'\n",
    "\n",
    "# Separate the features and target variable\n",
    "X = df[feature_columns]\n",
    "y = df[target_column]\n",
    "\n",
    "# Split the data into training and testing sets\n",
    "X_train, X_test, y_train, y_test = train_test_split(X, y, test_size=0.2, random_state=42)\n",
    "\n",
    "# Standardize the feature data\n",
    "scaler = StandardScaler()\n",
    "X_train_scaled = scaler.fit_transform(X_train)\n",
    "X_test_scaled = scaler.transform(X_test)\n",
    "\n",
    "# Create and train the KNN model\n",
    "knn_model = KNeighborsRegressor(n_neighbors=5)  # Default to 5 neighbors\n",
    "knn_model.fit(X_train_scaled, y_train)\n",
    "\n",
    "# Make predictions\n",
    "y_pred = knn_model.predict(X_test_scaled)\n",
    "\n",
    "# Evaluate the model\n",
    "mae = mean_absolute_error(y_test, y_pred)\n",
    "mse = mean_squared_error(y_test, y_pred)\n",
    "r2 = r2_score(y_test, y_pred)\n",
    "\n",
    "# Print evaluation metrics\n",
    "print(f\"Mean Absolute Error: {mae:.3f}\")\n",
    "print(f\"Mean Squared Error: {mse:.3f}\")\n",
    "print(f\"R^2 Score: {r2:.3f}\")"
   ]
  },
  {
   "cell_type": "code",
   "execution_count": null,
   "metadata": {},
   "outputs": [],
   "source": [
    "import matplotlib.pyplot as plt\n",
    "import seaborn as sns\n",
    "import pandas as pd\n",
    "\n",
    "# Scale the data\n",
    "scaler = StandardScaler()\n",
    "scaled_features = scaler.fit_transform(X)\n",
    "\n",
    "# Create a DataFrame for easier visualization\n",
    "scaled_df = pd.DataFrame(scaled_features, columns=feature_columns)\n",
    "\n",
    "# Visualize the distributions of original and scaled data\n",
    "plt.figure(figsize=(20, 10))\n",
    "\n",
    "# Plot original data\n",
    "plt.subplot(2, 1, 1)\n",
    "sns.boxplot(data=X, orient='h', palette='coolwarm')\n",
    "plt.title('Original Data (Before Scaling)', fontsize=14)\n",
    "plt.xlabel('Value Range')\n",
    "plt.ylabel('Features')\n",
    "\n",
    "# Plot scaled data\n",
    "plt.subplot(2, 1, 2)\n",
    "sns.boxplot(data=scaled_df, orient='h', palette='coolwarm')\n",
    "plt.title('Scaled Data (After Standardization)', fontsize=14)\n",
    "plt.xlabel('Standardized Range (Centered at 0)')\n",
    "plt.ylabel('Features')\n",
    "\n",
    "plt.tight_layout()\n",
    "plt.show()\n"
   ]
  },
  {
   "cell_type": "code",
   "execution_count": null,
   "metadata": {},
   "outputs": [],
   "source": [
    "from sklearn.model_selection import GridSearchCV\n",
    "\n",
    "param_grid = {'n_neighbors': range(1, 21)}\n",
    "grid_search = GridSearchCV(KNeighborsRegressor(), param_grid, cv=3, scoring='r2')\n",
    "grid_search.fit(X_train_scaled, y_train)\n",
    "\n",
    "# Best parameters and model\n",
    "best_params = grid_search.best_params_\n",
    "best_knn_model = grid_search.best_estimator_\n",
    "\n",
    "print(f\"Best Parameters: {best_params}\")\n"
   ]
  },
  {
   "cell_type": "code",
   "execution_count": null,
   "metadata": {},
   "outputs": [],
   "source": [
    "# Use the best model from GridSearchCV\n",
    "best_knn_model = grid_search.best_estimator_\n",
    "\n",
    "# Make predictions on the test data\n",
    "y_pred_tuned = best_knn_model.predict(X_test_scaled)\n",
    "\n",
    "# Evaluate the tuned model\n",
    "mae_tuned = mean_absolute_error(y_test, y_pred_tuned)\n",
    "mse_tuned = mean_squared_error(y_test, y_pred_tuned)\n",
    "r2_tuned = r2_score(y_test, y_pred_tuned)\n",
    "\n",
    "# Print the evaluation metrics\n",
    "print(\"Evaluation Metrics for the Tuned KNN Model:\")\n",
    "print(f\"Mean Absolute Error: {mae_tuned:.3f}\")\n",
    "print(f\"Mean Squared Error: {mse_tuned:.3f}\")\n",
    "print(f\"R^2 Score: {r2_tuned:.3f}\")\n"
   ]
  },
  {
   "cell_type": "markdown",
   "metadata": {},
   "source": [
    "Before:\\\n",
    "Mean Absolute Error: 0.503\\\n",
    "Mean Squared Error: 0.466\\\n",
    "R^2 Score: 0.460\n",
    "\n",
    "After:\\\n",
    "Mean Absolute Error: 0.500\\\n",
    "Mean Squared Error: 0.464\\\n",
    "R^2 Score: 0.462"
   ]
  },
  {
   "cell_type": "markdown",
   "metadata": {},
   "source": [
    "# Train Rotten Tomatoes Score"
   ]
  },
  {
   "cell_type": "code",
   "execution_count": null,
   "metadata": {},
   "outputs": [],
   "source": [
    "# Define the target column for Rotten Tomatoes Score\n",
    "target_column_rt = 'Rotten Tomatoes Score'\n",
    "\n",
    "# Separate the features and target variable for Rotten Tomatoes Score\n",
    "X_rt = df[feature_columns]\n",
    "y_rt = df[target_column_rt]\n",
    "\n",
    "# Split the data into training and testing sets\n",
    "X_train_rt, X_test_rt, y_train_rt, y_test_rt = train_test_split(X_rt, y_rt, test_size=0.2, random_state=42)\n",
    "\n",
    "# Standardize the feature data\n",
    "scaler_rt = StandardScaler()\n",
    "X_train_scaled_rt = scaler_rt.fit_transform(X_train_rt)\n",
    "X_test_scaled_rt = scaler_rt.transform(X_test_rt)\n",
    "\n",
    "# Create and train the KNN model for Rotten Tomatoes Score\n",
    "knn_model_rt = KNeighborsRegressor(n_neighbors=5)  # Default to 5 neighbors\n",
    "knn_model_rt.fit(X_train_scaled_rt, y_train_rt)\n",
    "\n",
    "# Make predictions\n",
    "y_pred_rt = knn_model_rt.predict(X_test_scaled_rt)\n",
    "\n",
    "# Evaluate the model\n",
    "mae_rt = mean_absolute_error(y_test_rt, y_pred_rt)\n",
    "mse_rt = mean_squared_error(y_test_rt, y_pred_rt)\n",
    "r2_rt = r2_score(y_test_rt, y_pred_rt)\n",
    "\n",
    "# Print evaluation metrics\n",
    "print(f\"Mean Absolute Error (Rotten Tomatoes Score): {mae_rt:.3f}\")\n",
    "print(f\"Mean Squared Error (Rotten Tomatoes Score): {mse_rt:.3f}\")\n",
    "print(f\"R^2 Score (Rotten Tomatoes Score): {r2_rt:.3f}\")"
   ]
  },
  {
   "cell_type": "markdown",
   "metadata": {},
   "source": [
    "# Train Metacritic Score"
   ]
  },
  {
   "cell_type": "code",
   "execution_count": null,
   "metadata": {},
   "outputs": [],
   "source": [
    "# Define the target column for Metacritic Score\n",
    "target_column_mc = 'Metacritic Score'\n",
    "\n",
    "# Separate the features and target variable for Metacritic Score\n",
    "X_mc = df[feature_columns]\n",
    "y_mc = df[target_column_mc]\n",
    "\n",
    "# Split the data into training and testing sets\n",
    "X_train_mc, X_test_mc, y_train_mc, y_test_mc = train_test_split(X_mc, y_mc, test_size=0.2, random_state=42)\n",
    "\n",
    "# Standardize the feature data\n",
    "scaler_mc = StandardScaler()\n",
    "X_train_scaled_mc = scaler_mc.fit_transform(X_train_mc)\n",
    "X_test_scaled_mc = scaler_mc.transform(X_test_mc)\n",
    "\n",
    "# Create and train the KNN model for Metacritic Score\n",
    "knn_model_mc = KNeighborsRegressor(n_neighbors=5)  # Default to 5 neighbors\n",
    "knn_model_mc.fit(X_train_scaled_mc, y_train_mc)\n",
    "\n",
    "# Make predictions\n",
    "y_pred_mc = knn_model_mc.predict(X_test_scaled_mc)\n",
    "\n",
    "# Evaluate the model\n",
    "mae_mc = mean_absolute_error(y_test_mc, y_pred_mc)\n",
    "mse_mc = mean_squared_error(y_test_mc, y_pred_mc)\n",
    "r2_mc = r2_score(y_test_mc, y_pred_mc)\n",
    "\n",
    "# Print evaluation metrics\n",
    "print(f\"Mean Absolute Error (Metacritic Score): {mae_mc:.3f}\")\n",
    "print(f\"Mean Squared Error (Metacritic Score): {mse_mc:.3f}\")\n",
    "print(f\"R^2 Score (Metacritic Score): {r2_mc:.3f}\")"
   ]
  },
  {
   "cell_type": "code",
   "execution_count": null,
   "metadata": {},
   "outputs": [],
   "source": [
    "plt.figure(figsize=(8, 6))\n",
    "plt.scatter(y_test, y_pred_tuned, alpha=0.6, edgecolor='k')\n",
    "plt.plot([min(y_test), max(y_test)], [min(y_test), max(y_test)], color='red', linestyle='--')\n",
    "plt.xlabel('Actual IMDb Score')\n",
    "plt.ylabel('Predicted IMDb Score')\n",
    "plt.title('Actual vs. Predicted Values for IMDb Score')\n",
    "plt.show()\n",
    "\n",
    "plt.figure(figsize=(8, 6))\n",
    "plt.scatter(y_test_rt, y_pred_rt, alpha=0.6, edgecolor='k')\n",
    "plt.plot([min(y_test_rt), max(y_test_rt)], [min(y_test_rt), max(y_test_rt)], color='red', linestyle='--')\n",
    "plt.xlabel('Actual Rotten Tomatoes Score')\n",
    "plt.ylabel('Predicted Rotten Tomatoes Score')\n",
    "plt.title('Actual vs. Predicted Values for Rotten Tomatoes Score')\n",
    "plt.show()\n",
    "\n",
    "plt.scatter(y_test_mc, y_pred_mc, alpha=0.6, edgecolor='k')\n",
    "plt.plot([min(y_test_mc), max(y_test_mc)], [min(y_test_mc), max(y_test_mc)], color='red', linestyle='--')\n",
    "plt.xlabel('Actual Metacritic Score')\n",
    "plt.ylabel('Predicted Metacritic Score')\n",
    "plt.title('Actual vs. Predicted Values for Metacritic Score')\n",
    "plt.show()"
   ]
  }
 ],
 "metadata": {
  "kernelspec": {
   "display_name": "Python 3",
   "language": "python",
   "name": "python3"
  },
  "language_info": {
   "codemirror_mode": {
    "name": "ipython",
    "version": 3
   },
   "file_extension": ".py",
   "mimetype": "text/x-python",
   "name": "python",
   "nbconvert_exporter": "python",
   "pygments_lexer": "ipython3",
   "version": "3.12.5"
  }
 },
 "nbformat": 4,
 "nbformat_minor": 2
}
